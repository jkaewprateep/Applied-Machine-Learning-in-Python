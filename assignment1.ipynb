{
 "cells": [
  {
   "cell_type": "markdown",
   "metadata": {
    "deletable": false,
    "editable": false,
    "etc_identifier": "242a3605-5bda-4e1f-beef-04a0173d3f41",
    "nbgrader": {
     "cell_type": "markdown",
     "checksum": "56ded12c208a4e3c8f6e0d50ef6227fa",
     "grade": false,
     "grade_id": "cell-fa48e7f1b94baa5b",
     "locked": true,
     "schema_version": 3,
     "solution": false
    }
   },
   "source": [
    "# Assignment 1\n",
    "\n",
    "For this assignment you are welcomed to use other regex resources such a regex \"cheat sheets\" you find on the web."
   ]
  },
  {
   "cell_type": "markdown",
   "metadata": {
    "deletable": false,
    "editable": false,
    "nbgrader": {
     "cell_type": "markdown",
     "checksum": "d17f561e3c6c08092810b982d085f5be",
     "grade": false,
     "grade_id": "cell-d4da7eb9acee2a6d",
     "locked": true,
     "schema_version": 3,
     "solution": false
    }
   },
   "source": [
    "Before start working on the problems, here is a small example to help you understand how to write your own answers. In short, the solution should be written within the function body given, and the final result should be returned. Then the autograder will try to call the function and validate your returned result accordingly. "
   ]
  },
  {
   "cell_type": "code",
   "execution_count": 1,
   "metadata": {
    "deletable": false,
    "editable": false,
    "nbgrader": {
     "cell_type": "code",
     "checksum": "7eeb5e7d0f0e0137caed9f3b5cb925b1",
     "grade": false,
     "grade_id": "cell-4a96535829224b3f",
     "locked": true,
     "schema_version": 3,
     "solution": false
    }
   },
   "outputs": [],
   "source": [
    "def example_word_count():\n",
    "    # This example question requires counting words in the example_string below.\n",
    "    example_string = \"Amy is 5 years old\"\n",
    "    \n",
    "    # YOUR CODE HERE.\n",
    "    # You should write your solution here, and return your result, you can comment out or delete the\n",
    "    # NotImplementedError below.\n",
    "    result = example_string.split(\" \")\n",
    "    return len(result)\n",
    "\n",
    "    #raise NotImplementedError()"
   ]
  },
  {
   "cell_type": "markdown",
   "metadata": {},
   "source": [
    "## Part A\n",
    "\n",
    "Find a list of all of all of the names in the following string using regex."
   ]
  },
  {
   "cell_type": "code",
   "execution_count": 2,
   "metadata": {
    "deletable": false,
    "nbgrader": {
     "cell_type": "code",
     "checksum": "29bc8c161c0e246c1e3ef4820cc164f7",
     "grade": false,
     "grade_id": "names",
     "locked": false,
     "schema_version": 3,
     "solution": true
    }
   },
   "outputs": [
    {
     "name": "stdout",
     "output_type": "stream",
     "text": [
      "['Amy', 'Mary', 'Ruth', 'Peter']\n"
     ]
    }
   ],
   "source": [
    "import re\n",
    "def names():\n",
    "    simple_string = \"\"\"Amy is 5 years old, and her sister Mary is 2 years old. \n",
    "    Ruth and Peter, their parents, have 3 kids.\"\"\"\n",
    "\n",
    "    # YOUR CODE HERE\n",
    "    \n",
    "    # 🧸💬 Regular expression, name of person, place, vehicle and objects are \n",
    "    # express by themself. They can be subject of the sentence and identify\n",
    "    # among group of the same or different purpose.\n",
    "    expression = r'([A-Z][a-z]\\w+)'\n",
    "    _temp = re.findall(expression, simple_string)\n",
    "    \n",
    "    return _temp\n",
    "\n",
    "print( names() )"
   ]
  },
  {
   "cell_type": "code",
   "execution_count": 3,
   "metadata": {
    "deletable": false,
    "editable": false,
    "nbgrader": {
     "cell_type": "code",
     "checksum": "ed5c09ac57f7d98130d5abc557f6d6c4",
     "grade": true,
     "grade_id": "correct_names",
     "locked": false,
     "points": 1,
     "schema_version": 3,
     "solution": false
    }
   },
   "outputs": [],
   "source": [
    "assert len(names()) == 4, \"There are four names in the simple_string\"\n"
   ]
  },
  {
   "cell_type": "markdown",
   "metadata": {
    "deletable": false,
    "editable": false,
    "nbgrader": {
     "cell_type": "markdown",
     "checksum": "22f18c5538beb4d2661bcbae651c6458",
     "grade": false,
     "grade_id": "cell-ed64e3464ddd7ba7",
     "locked": true,
     "schema_version": 3,
     "solution": false
    }
   },
   "source": [
    "## Part B\n",
    "\n",
    "The dataset file in [assets/grades.txt](assets/grades.txt) contains a line separated list of people with their grade in a class. Create a regex to generate a list of just those students who received a B in the course."
   ]
  },
  {
   "cell_type": "code",
   "execution_count": 4,
   "metadata": {
    "deletable": false,
    "nbgrader": {
     "cell_type": "code",
     "checksum": "e977a1df674e9fa684e6d172aec92824",
     "grade": false,
     "grade_id": "grades",
     "locked": false,
     "schema_version": 3,
     "solution": true
    }
   },
   "outputs": [],
   "source": [
    "import re\n",
    "def grades():\n",
    "    with open (\"assets/grades.txt\", \"r\") as file:\n",
    "        grades = file.read()\n",
    "        \n",
    "        # 🧸💬 Name and commons are identical and more indent with behaviour.\n",
    "        expression = r'([A-Z]\\w+).([A-Z][a-z]\\w+)(: B)'\n",
    "        _temp = re.findall(expression, grades)\n",
    "        \n",
    "        result = [str(x) + \" \" + str(y) for (x,y,z) in _temp]\n",
    "\n",
    "    return result\n",
    "\n",
    "# _temp = grades()\n",
    "# print( _temp )"
   ]
  },
  {
   "cell_type": "code",
   "execution_count": 5,
   "metadata": {
    "deletable": false,
    "editable": false,
    "nbgrader": {
     "cell_type": "code",
     "checksum": "e0bcc452d60fc45259e58d3116d25477",
     "grade": true,
     "grade_id": "correct_grades",
     "locked": false,
     "points": 1,
     "schema_version": 3,
     "solution": false
    }
   },
   "outputs": [],
   "source": [
    "assert len(grades()) == 16\n"
   ]
  },
  {
   "cell_type": "markdown",
   "metadata": {
    "deletable": false,
    "editable": false,
    "nbgrader": {
     "cell_type": "markdown",
     "checksum": "4609d4ee034af5059e666df2740bdeb2",
     "grade": false,
     "grade_id": "cell-e253518e37d33f0c",
     "locked": true,
     "schema_version": 3,
     "solution": false
    }
   },
   "source": [
    "## Part C\n",
    "\n",
    "Consider the standard web log file in [assets/logdata.txt](assets/logdata.txt). This file records the access a user makes when visiting a web page (like this one!). Each line of the log has the following items:\n",
    "\n",
    "* a host (e.g., '146.204.224.152') \n",
    "* a user_name (e.g., 'feest6811' **note: sometimes the user name is missing! In this case, use '-' as the value for the username.**)\n",
    "* the time a request was made (e.g., '21/Jun/2019:15:45:24 -0700')\n",
    "* the post request type (e.g., 'POST /incentivize HTTP/1.1' **note: not everything is a POST!**)\n",
    "\n",
    "Your task is to convert this into a list of dictionaries, where each dictionary looks like the following:\n",
    "```\n",
    "example_dict = {\"host\":\"146.204.224.152\", \n",
    "                \"user_name\":\"feest6811\", \n",
    "                \"time\":\"21/Jun/2019:15:45:24 -0700\",\n",
    "                \"request\":\"POST /incentivize HTTP/1.1\"}\n",
    "```"
   ]
  },
  {
   "cell_type": "code",
   "execution_count": 6,
   "metadata": {
    "deletable": false,
    "nbgrader": {
     "cell_type": "code",
     "checksum": "c04017e59e48b2f4c77bf425ed84b356",
     "grade": false,
     "grade_id": "logs",
     "locked": false,
     "schema_version": 3,
     "solution": true
    }
   },
   "outputs": [],
   "source": [
    "import re\n",
    "def logs():\n",
    "    \n",
    "    i_count = 0\n",
    "    ls_hostname = []\n",
    "    ls_username = []\n",
    "    ls_time = []\n",
    "    ls_request = []\n",
    "    all_text = \"\"\n",
    "    result = []\n",
    "    \n",
    "    with open(\"assets/logdata.txt\", \"r\") as file:\n",
    "        i_count = i_count + 1;\n",
    "        logdata = file.read()\n",
    "        all_text = logdata.split(\"\\n\")\n",
    "    \n",
    "    for logdata in all_text:\n",
    "        \n",
    "        if len(logdata) == 0:\n",
    "            break;\n",
    "        \n",
    "        # 🧸💬 IP-address compose of number and '.' that preriodic significants.\n",
    "        # hostname_exp = r'(\\w+)[.](\\w+)[.](\\w+)[.]([0-9]\\w+)'\n",
    "        hostname_exp = r'(\\w+[/.])(\\w+[/.])(\\w+[/.])(\\w+[ ])'\n",
    "        _temp = re.findall(hostname_exp, logdata)\n",
    "\n",
    "        hostname = \"\"\n",
    "        if len(_temp) > 0:\n",
    "            hostname = f\"{ _temp[0][0] }{ _temp[0][1] }{ _temp[0][2] }{ _temp[0][3] }\"\n",
    "        \n",
    "        # 🧸💬 Username compose of common and capital, they are significant self and friends.\n",
    "        username_exp = r'([-][ ])([a-zA-Z0-9]\\w+)'\n",
    "        _temp = re.findall(username_exp, logdata)\n",
    "        username = \"\"\n",
    "        if len(_temp) > 0:\n",
    "            username = f\"{ _temp[0][1] }\"\n",
    "        \n",
    "        # 🧸💬 Date and time, significant and can be starter.\n",
    "        ##############################################\n",
    "        date_exp = r'[\\[]+(\\w+)'\n",
    "        _temp = re.search(date_exp, logdata) \n",
    "        \n",
    "        date = logdata[_temp.span()[0]+1:_temp.span()[1]]\n",
    "        \n",
    "        _tempstring = logdata[_temp.span()[1] + 1:]\n",
    "        month_exp = r'(\\w+)[/]'\n",
    "        _temp = re.search(month_exp, _tempstring)\n",
    "        \n",
    "        month = _tempstring[_temp.span()[0]:_temp.span()[1] - 1]\n",
    "        \n",
    "        _tempstring = _tempstring[_temp.span()[1]:]\n",
    "        year_exp = r'(\\w+)[:]'\n",
    "        _temp = re.search(year_exp, _tempstring)\n",
    "        \n",
    "        year = _tempstring[_temp.span()[0]:_temp.span()[1] - 1]\n",
    "        \n",
    "        timezone_exp = r'([ -]\\w+)'\n",
    "        _temp = re.findall(timezone_exp, _tempstring)\n",
    "        timezone = _temp[0].strip()\n",
    "        ##############################################\n",
    "        \n",
    "        # 🧸💬 Time a good interval for tasks.\n",
    "        time_exp = r'([:])(\\w+)'        \n",
    "        _temp = re.findall(time_exp, logdata)   \n",
    "\n",
    "        hour, minute, time = 0, 0, 0\n",
    "        if len(_temp) > 0:\n",
    "            hour = _temp[0][1]\n",
    "            minute = _temp[1][1]\n",
    "            sec = _temp[2][1]\n",
    "            time = f\"{hour}:{minute}:{sec}\"\n",
    "\n",
    "        # 🧸💬 Request common message we need to maintain and continue.\n",
    "        # request_exp = r'([ -./\\w+]\\w+)'\n",
    "        request_exp = r'([\"\\%\\+ \\.\\-\\/\\\\\"\"]\\w+)'\n",
    "        _temp = re.findall(request_exp, logdata)  \n",
    "        \n",
    "        idx_HTTPmethod = 0;\n",
    "        bStartconcat = False;\n",
    "        for item in _temp[:-2]:\n",
    "            item = item.replace(\"\\\"\", \"\")\n",
    "            if item in (\"POST\", \"GET\", \"PUT\", \"HEAD\", \"DELETE\", \"PATCH\"):\n",
    "                item = item + \" \";\n",
    "                bStartconcat = True;\n",
    "                \n",
    "            if bStartconcat:\n",
    "                request = f\"{ request }{ item }\";\n",
    "            else:\n",
    "                request = \"\";\n",
    "\n",
    "        temp = f'{date}/{month}/{year}:{ str(time).strip() } {timezone}';\n",
    "        \n",
    "        message = {}\n",
    "        if len(hostname.strip()) > 0:\n",
    "            message[\"host\"] = hostname.strip();\n",
    "        else:\n",
    "            message[\"host\"] = ' '\n",
    "        if len(username.strip()) > 0:\n",
    "            message[\"user_name\"] = username.strip();\n",
    "        else:\n",
    "            message[\"user_name\"] = ' '\n",
    "        message[\"time\"] = temp;\n",
    "        message[\"request\"] = request.strip();\n",
    "        \n",
    "        result.append(message)\n",
    "    \n",
    "    return result"
   ]
  },
  {
   "cell_type": "code",
   "execution_count": 7,
   "metadata": {
    "deletable": false,
    "editable": false,
    "nbgrader": {
     "cell_type": "code",
     "checksum": "1fd5f2cca190d37c667fb189352540d3",
     "grade": true,
     "grade_id": "cell-correct_logs",
     "locked": true,
     "points": 1,
     "schema_version": 3,
     "solution": false
    }
   },
   "outputs": [],
   "source": [
    "assert len(logs()) == 979\n",
    "\n",
    "one_item={'host': '146.204.224.152',\n",
    "  'user_name': 'feest6811',\n",
    "  'time': '21/Jun/2019:15:45:24 -0700',\n",
    "  'request': 'POST /incentivize HTTP/1.1'}\n",
    "assert one_item in logs(), \"Sorry, this item should be in the log results, check your formating\"\n"
   ]
  },
  {
   "cell_type": "code",
   "execution_count": 8,
   "metadata": {},
   "outputs": [],
   "source": [
    "#🧸💬 🐑💬 ➰ Yeahhhh~"
   ]
  },
  {
   "cell_type": "code",
   "execution_count": null,
   "metadata": {},
   "outputs": [],
   "source": []
  }
 ],
 "metadata": {
  "kernelspec": {
   "display_name": "Python 3 (ipykernel)",
   "language": "python",
   "name": "python3"
  },
  "language_info": {
   "codemirror_mode": {
    "name": "ipython",
    "version": 3
   },
   "file_extension": ".py",
   "mimetype": "text/x-python",
   "name": "python",
   "nbconvert_exporter": "python",
   "pygments_lexer": "ipython3",
   "version": "3.9.13"
  }
 },
 "nbformat": 4,
 "nbformat_minor": 4
}
